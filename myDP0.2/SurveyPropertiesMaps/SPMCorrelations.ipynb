{
 "cells": [
  {
   "cell_type": "markdown",
   "id": "d14fe10d-1b1c-47db-bdf5-9af5df70d5f5",
   "metadata": {},
   "source": [
    "# Survey Properties Maps correlations\n",
    "\n",
    "<img align=\"left\" src = ../figs/logos/logo-IJCLab_v1.png height=40, style=\"padding: 10px\"> \n",
    "<b>Correlations of Survey Properties Maps </b> <br>\n",
    "Last verified to run on 2022-09-04 with LSST Science Pipelines release w_2022_22 <br>\n",
    "Contact authors: Sylvie Dagoret-Campagne (DP0 Delegate) <br>\n",
    "Target audience: DP0 delegates member <br>"
   ]
  },
  {
   "cell_type": "markdown",
   "id": "feff7a5c-e8a7-486d-ab63-68cd1333cf26",
   "metadata": {},
   "source": [
    "## import packages"
   ]
  },
  {
   "cell_type": "code",
   "execution_count": 1,
   "id": "24c15847-0c8e-4f09-ab7f-4c49c77e8e82",
   "metadata": {},
   "outputs": [
    {
     "name": "stderr",
     "output_type": "stream",
     "text": [
      "\n",
      "WARNING: version mismatch between CFITSIO header (v4.000999999999999) and linked library (v4.01).\n",
      "\n",
      "\n",
      "WARNING: version mismatch between CFITSIO header (v4.000999999999999) and linked library (v4.01).\n",
      "\n",
      "\n",
      "WARNING: version mismatch between CFITSIO header (v4.000999999999999) and linked library (v4.01).\n",
      "\n"
     ]
    }
   ],
   "source": [
    "# general python packages\n",
    "import numpy as np\n",
    "import matplotlib.pyplot as plt\n",
    "import matplotlib as mpl\n",
    "from astropy.visualization import ZScaleInterval, LinearStretch, ImageNormalize\n",
    "\n",
    "# packages for working with sparse healpix maps\n",
    "import healsparse as hsp\n",
    "import skyproj\n",
    "\n",
    "# LSST packages\n",
    "from lsst.daf.butler import Butler\n",
    "import lsst.geom as geom\n",
    "\n",
    "# allow interactive plots\n",
    "#%matplotlib widget\n",
    "%matplotlib inline\n",
    "\n",
    "# default plot style is accessible\n",
    "plt.style.use('tableau-colorblind10')"
   ]
  },
  {
   "cell_type": "code",
   "execution_count": 2,
   "id": "24e185ae-a248-47e2-b915-ae0e31402c0c",
   "metadata": {},
   "outputs": [],
   "source": [
    "from scipy.stats import pearsonr, spearmanr"
   ]
  },
  {
   "cell_type": "code",
   "execution_count": 3,
   "id": "5d8f3fd4-c99e-412a-98bd-c188652813ea",
   "metadata": {},
   "outputs": [],
   "source": [
    "all_bands = ['u','g','r','i','z','y']"
   ]
  },
  {
   "cell_type": "markdown",
   "id": "7e9e4ac4-b0ce-4ea3-a676-e1cb865f085a",
   "metadata": {},
   "source": [
    "## Butler"
   ]
  },
  {
   "cell_type": "code",
   "execution_count": 4,
   "id": "7acf512c-a91c-405e-8a3a-effbafe9feb3",
   "metadata": {},
   "outputs": [
    {
     "data": {
      "text/html": [
       "<pre style=\"margin: 0.1em;\n",
       "padding-left: 0.25em;\n",
       "border-left-style: solid;\n",
       "font-family: var(--jp-code-font-family);\n",
       "font-size: var(--jp-code-font-size);\n",
       "line-height: var(--jp-code-line-height);\n",
       "\"><span style=\"color: var(--jp-warn-color2)\">botocore.credentials</span> <span style=\"color: var(--jp-info-color0)\">INFO</span>: Found credentials in shared credentials file: /home/sylvielsstfr/.lsst/aws-credentials.ini</pre>"
      ],
      "text/plain": [
       "<IPython.core.display.HTML object>"
      ]
     },
     "metadata": {},
     "output_type": "display_data"
    }
   ],
   "source": [
    "config = 'dp02'\n",
    "collections = '2.2i/runs/DP0.2'\n",
    "butler = Butler(config, collections=collections)\n",
    "registry=butler.registry"
   ]
  },
  {
   "cell_type": "markdown",
   "id": "bc226df9-1f13-49f7-a951-45674003616d",
   "metadata": {},
   "source": [
    "## Read SPM"
   ]
  },
  {
   "cell_type": "code",
   "execution_count": 5,
   "id": "6daffb21-9a22-493c-83b9-b43f17e3aa4d",
   "metadata": {},
   "outputs": [
    {
     "name": "stdout",
     "output_type": "stream",
     "text": [
      "All SPM in deepCoadd consolidated_maps\n"
     ]
    },
    {
     "data": {
      "text/plain": [
       "['deepCoadd_dcr_ddec_consolidated_map_weighted_mean',\n",
       " 'deepCoadd_dcr_dra_consolidated_map_weighted_mean',\n",
       " 'deepCoadd_dcr_e1_consolidated_map_weighted_mean',\n",
       " 'deepCoadd_dcr_e2_consolidated_map_weighted_mean',\n",
       " 'deepCoadd_exposure_time_consolidated_map_sum',\n",
       " 'deepCoadd_psf_e1_consolidated_map_weighted_mean',\n",
       " 'deepCoadd_psf_e2_consolidated_map_weighted_mean',\n",
       " 'deepCoadd_psf_maglim_consolidated_map_weighted_mean',\n",
       " 'deepCoadd_psf_size_consolidated_map_weighted_mean',\n",
       " 'deepCoadd_sky_background_consolidated_map_weighted_mean',\n",
       " 'deepCoadd_sky_noise_consolidated_map_weighted_mean']"
      ]
     },
     "execution_count": 5,
     "metadata": {},
     "output_type": "execute_result"
    }
   ],
   "source": [
    "# No consolidated map\n",
    "all_map_names = []\n",
    "for dtype in sorted(butler.registry.queryDatasetTypes(expression=\"*map*\")):\n",
    "    if \"deepCoadd\" in dtype.name and \"consolidated_map\" in  dtype.name :\n",
    "        all_map_names.append(dtype.name)\n",
    "print(\"All SPM in deepCoadd consolidated_maps\")\n",
    "all_map_names"
   ]
  },
  {
   "cell_type": "markdown",
   "id": "c47244de-28da-42df-8051-a733e0f899df",
   "metadata": {},
   "source": [
    "## Select maps"
   ]
  },
  {
   "cell_type": "code",
   "execution_count": 6,
   "id": "37e69d83-53a3-4edc-b935-7f5aa9bfd550",
   "metadata": {},
   "outputs": [
    {
     "name": "stdout",
     "output_type": "stream",
     "text": [
      " 0 :: deepCoadd_dcr_ddec_consolidated_map_weighted_mean\n",
      " 1 :: deepCoadd_dcr_dra_consolidated_map_weighted_mean\n",
      " 2 :: deepCoadd_dcr_e1_consolidated_map_weighted_mean\n",
      " 3 :: deepCoadd_dcr_e2_consolidated_map_weighted_mean\n",
      " 4 :: deepCoadd_exposure_time_consolidated_map_sum\n",
      " 5 :: deepCoadd_psf_e1_consolidated_map_weighted_mean\n",
      " 6 :: deepCoadd_psf_e2_consolidated_map_weighted_mean\n",
      " 7 :: deepCoadd_psf_maglim_consolidated_map_weighted_mean\n",
      " 8 :: deepCoadd_psf_size_consolidated_map_weighted_mean\n",
      " 9 :: deepCoadd_sky_background_consolidated_map_weighted_mean\n",
      " 10 :: deepCoadd_sky_noise_consolidated_map_weighted_mean\n"
     ]
    }
   ],
   "source": [
    "NMAP = len(all_map_names)\n",
    "for idx, value in enumerate(all_map_names):\n",
    "    print(f\" {idx} :: {value}\")\n"
   ]
  },
  {
   "cell_type": "code",
   "execution_count": 7,
   "id": "ed15bb70-6773-42c0-836e-81adc8e6b23e",
   "metadata": {},
   "outputs": [],
   "source": [
    "# time vs maglim\n",
    "idx_map1 = 7\n",
    "idx_map2 = 4\n",
    "\n",
    "# e2 vs e1\n",
    "idx_map1 = 2\n",
    "idx_map2 = 3\n",
    "\n",
    "# e2 vs e1\n",
    "idx_map1 = 5\n",
    "idx_map2 = 6\n",
    "\n",
    "# sky back\n",
    "idx_map1 = 9\n",
    "idx_map2 = 10\n",
    "\n",
    "idx_band = 3"
   ]
  },
  {
   "cell_type": "code",
   "execution_count": 8,
   "id": "76ff4d22-d0e0-4c99-9df3-91e256a9ac30",
   "metadata": {},
   "outputs": [],
   "source": [
    "name_spm1 = all_map_names[idx_map1]\n",
    "name_spm2 = all_map_names[idx_map2]\n",
    "band_sel = all_bands[idx_band]"
   ]
  },
  {
   "cell_type": "code",
   "execution_count": 9,
   "id": "b222a8f0-74bb-418c-ace2-818a0b9a2870",
   "metadata": {},
   "outputs": [],
   "source": [
    "band_sel = all_bands[idx_band]"
   ]
  },
  {
   "cell_type": "markdown",
   "id": "0937251d-065d-4c86-8917-ca5d2ef9cd9d",
   "metadata": {},
   "source": [
    "### read the HSP maps"
   ]
  },
  {
   "cell_type": "code",
   "execution_count": 10,
   "id": "cf309e41-841d-479d-a7e5-b4ef3fbb942c",
   "metadata": {},
   "outputs": [],
   "source": [
    "hspmap1 = butler.get(name_spm1, band=band_sel)\n",
    "hspmap2 = butler.get(name_spm2, band=band_sel) "
   ]
  },
  {
   "cell_type": "markdown",
   "id": "48de3c27-809e-4853-8c12-0a9d082b22fc",
   "metadata": {},
   "source": [
    "## retrieve pixels of maps"
   ]
  },
  {
   "cell_type": "code",
   "execution_count": 11,
   "id": "912b4b8d-9a4b-4b04-93cc-07e1fed1834f",
   "metadata": {},
   "outputs": [],
   "source": [
    "valid_pixels_indices1 = hspmap1.valid_pixels\n",
    "valid_pixels_indices2 = hspmap2.valid_pixels"
   ]
  },
  {
   "cell_type": "code",
   "execution_count": 12,
   "id": "38135b47-33b2-4696-8e07-becdb6baa937",
   "metadata": {},
   "outputs": [],
   "source": [
    "common_pixels_indices = np.intersect1d(valid_pixels_indices1 , valid_pixels_indices2 )"
   ]
  },
  {
   "cell_type": "code",
   "execution_count": 13,
   "id": "91f88ea4-2f44-42a5-b9ba-8112c65f19d0",
   "metadata": {},
   "outputs": [],
   "source": [
    "#missing_pixels_indices1_flag = ~np.isin(valid_pixels_indices1,common_pixels_indices)  "
   ]
  },
  {
   "cell_type": "code",
   "execution_count": 14,
   "id": "0358ceeb-faa7-4433-9c6a-72bbc869dfd2",
   "metadata": {},
   "outputs": [],
   "source": [
    "#missing_pixels_indices2_flag = ~np.isin(valid_pixels_indices2,common_pixels_indices)  "
   ]
  },
  {
   "cell_type": "code",
   "execution_count": 15,
   "id": "1bacc502-59d0-47c1-a227-2c43e6202c0a",
   "metadata": {},
   "outputs": [],
   "source": [
    "X = hspmap1[common_pixels_indices] \n",
    "Y = hspmap2[common_pixels_indices] "
   ]
  },
  {
   "cell_type": "code",
   "execution_count": 16,
   "id": "06de9943-f37c-4fab-8f3e-c64f0b3817d2",
   "metadata": {},
   "outputs": [],
   "source": [
    "# pearson correlation coefficient\n",
    "rp = pearsonr(X,Y)"
   ]
  },
  {
   "cell_type": "code",
   "execution_count": 17,
   "id": "1883daa1-3f42-421f-a546-12c17614d12f",
   "metadata": {},
   "outputs": [],
   "source": [
    "textstr = '\\n'.join((\n",
    "    r'$r_p=%.2f$' % (rp[0], ),\n",
    "    ))\n",
    "props = dict(boxstyle='round', facecolor='wheat', alpha=0.5)"
   ]
  },
  {
   "cell_type": "code",
   "execution_count": 18,
   "id": "76baadd4-5957-40fe-a36b-e91db93f5594",
   "metadata": {},
   "outputs": [
    {
     "data": {
      "image/png": "[encoded data removed]",
      "text/plain": [
       "<Figure size 720x576 with 2 Axes>"
      ]
     },
     "metadata": {
      "needs_background": "light"
     },
     "output_type": "display_data"
    }
   ],
   "source": [
    "fig, ax = plt.subplots(figsize=(10,8))\n",
    "h=ax.hist2d(X,Y,bins=50,norm=mpl.colors.LogNorm());\n",
    "fig.colorbar(h[3], ax=ax)\n",
    "ax.set_xlabel(name_spm1)\n",
    "ax.set_ylabel(name_spm2)\n",
    "title = f\"correlation of SPM in band {band_sel}\"\n",
    "ax.set_title(title,fontsize=14)\n",
    "ax.text(0.05, 0.95, textstr, transform=ax.transAxes, fontsize=14,\n",
    "        verticalalignment='top', bbox=props)\n",
    "figname = \"corr_\"+name_spm1+\"_\"+name_spm2+\".png\"\n",
    "plt.savefig(figname)\n",
    "plt.show\n",
    "del h\n",
    "del fig"
   ]
  },
  {
   "cell_type": "code",
   "execution_count": 19,
   "id": "2212265e-13a1-4e04-af6f-5449c06222b4",
   "metadata": {},
   "outputs": [],
   "source": [
    "# Kill the kernel\n",
    "#spearmanr(X,Y)"
   ]
  },
  {
   "cell_type": "code",
   "execution_count": null,
   "id": "b7fa4703-78f3-4df3-8b73-92090f828e52",
   "metadata": {},
   "outputs": [],
   "source": []
  }
 ],
 "metadata": {
  "kernelspec": {
   "display_name": "LSST",
   "language": "python",
   "name": "lsst"
  },
  "language_info": {
   "codemirror_mode": {
    "name": "ipython",
    "version": 3
   },
   "file_extension": ".py",
   "mimetype": "text/x-python",
   "name": "python",
   "nbconvert_exporter": "python",
   "pygments_lexer": "ipython3",
   "version": "3.10.4"
  }
 },
 "nbformat": 4,
 "nbformat_minor": 5
}
