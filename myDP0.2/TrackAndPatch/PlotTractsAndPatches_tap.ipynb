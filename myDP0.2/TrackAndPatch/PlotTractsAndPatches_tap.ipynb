{
 "cells": [
  {
   "cell_type": "markdown",
   "id": "cbdba2ea-11cc-4551-91c8-6083b4a48dd8",
   "metadata": {},
   "source": [
    "# View DC2 data organisation in tracts and patches\n",
    "\n",
    "<img align=\"left\" src = ../figs/logos/logo-IJCLab_v1.png height=40, style=\"padding: 10px\"> \n",
    "<b>View DC2 data organisation in tracts and patches </b> <br>\n",
    "Last verified to run on 2022-09-04 with LSST Science Pipelines release w_2022_22 <br>\n",
    "Contact authors: Sylvie Dagoret-Campagne (DP0 Delegate) <br>\n",
    "Target audience: DP0 delegates member <br>"
   ]
  },
  {
   "cell_type": "markdown",
   "id": "6f33791a-1f42-43db-909d-254d82682335",
   "metadata": {},
   "source": [
    "from the LSSTC community https://community.lsst.org/t/how-to-make-a-loop-over-tracts-and-patches-to-split-the-dc2-dataset/6081/3"
   ]
  },
  {
   "cell_type": "code",
   "execution_count": 1,
   "id": "241f1083-3df9-4b1c-ae84-cacf19dd4df8",
   "metadata": {},
   "outputs": [],
   "source": [
    "from lsst.rsp import get_tap_service, retrieve_query\n",
    "service = get_tap_service()"
   ]
  },
  {
   "cell_type": "code",
   "execution_count": 2,
   "id": "ad66749d-0a42-40bb-b516-7f6e1b0174a0",
   "metadata": {},
   "outputs": [
    {
     "name": "stderr",
     "output_type": "stream",
     "text": [
      "\n",
      "WARNING: version mismatch between CFITSIO header (v4.000999999999999) and linked library (v4.01).\n",
      "\n",
      "\n",
      "WARNING: version mismatch between CFITSIO header (v4.000999999999999) and linked library (v4.01).\n",
      "\n",
      "\n",
      "WARNING: version mismatch between CFITSIO header (v4.000999999999999) and linked library (v4.01).\n",
      "\n"
     ]
    }
   ],
   "source": [
    "# LSST Science Pipelines (Stack) packages\n",
    "#import lsst.daf.butler as Butler\n",
    "import lsst.daf.butler as dafButler\n",
    "import lsst.afw.display as afwDisplay\n",
    "import lsst.geom as geom\n",
    "import lsst.afw.coord as afwCoord\n",
    "afwDisplay.setDefaultBackend('matplotlib')\n",
    "\n",
    "#\n",
    "from lsst import skymap\n",
    "\n",
    "# general python packages\n",
    "import numpy as np\n",
    "import matplotlib.pyplot as plt\n",
    "import matplotlib as mpl\n",
    "from astropy.visualization import ZScaleInterval, LinearStretch, ImageNormalize\n",
    "\n",
    "\n",
    "# allow interactive plots\n",
    "#%matplotlib widget\n",
    "%matplotlib inline\n",
    "\n",
    "# default plot style is accessible\n",
    "plt.style.use('tableau-colorblind10')\n"
   ]
  },
  {
   "cell_type": "code",
   "execution_count": 3,
   "id": "a039a574-cf23-4ec5-bae9-fb62421c4609",
   "metadata": {},
   "outputs": [],
   "source": [
    "import matplotlib.pyplot as plt\n",
    "from matplotlib.patches import Polygon\n",
    "from matplotlib.collections import PatchCollection"
   ]
  },
  {
   "cell_type": "code",
   "execution_count": 4,
   "id": "bfa19a46-a942-41b7-814c-1ac5ebd07855",
   "metadata": {},
   "outputs": [],
   "source": [
    "# Set up some plotting defaults:\n",
    "\n",
    "params = {'axes.labelsize': 28,\n",
    "          'font.size': 24,\n",
    "          'legend.fontsize': 14,\n",
    "          'xtick.major.width': 3,\n",
    "          'xtick.minor.width': 2,\n",
    "          'xtick.major.size': 12,\n",
    "          'xtick.minor.size': 6,\n",
    "          'xtick.direction': 'in',\n",
    "          'xtick.top': True,\n",
    "          'lines.linewidth': 3,\n",
    "          'axes.linewidth': 3,\n",
    "          'axes.labelweight': 3,\n",
    "          'axes.titleweight': 3,\n",
    "          'ytick.major.width': 3,\n",
    "          'ytick.minor.width': 2,\n",
    "          'ytick.major.size': 12,\n",
    "          'ytick.minor.size': 6,\n",
    "          'ytick.direction': 'in',\n",
    "          'ytick.right': True,\n",
    "          'figure.figsize': [16, 16],\n",
    "          'figure.facecolor': 'White'\n",
    "          }\n",
    "\n",
    "plt.rcParams.update(params)"
   ]
  },
  {
   "cell_type": "code",
   "execution_count": 5,
   "id": "34caf54e-2fc9-4bd5-a082-d1be1e9e577c",
   "metadata": {},
   "outputs": [],
   "source": [
    "import numpy as np"
   ]
  },
  {
   "cell_type": "code",
   "execution_count": 6,
   "id": "25ddc63e-663e-4097-a525-bbe159d60784",
   "metadata": {},
   "outputs": [],
   "source": [
    "results = service.search(\"select tract,patch,min(ra) as minRA, max(ra) as maxRA, min(dec) as minDec, max(dec) as maxDec,count(*) as num \\\n",
    "                          from dp01_dc2_catalogs.object group by tract,patch\")\n",
    "results_tab = results.to_table()"
   ]
  },
  {
   "cell_type": "code",
   "execution_count": null,
   "id": "710a6d5e-aa85-498d-8a11-7d23c1a57e37",
   "metadata": {},
   "outputs": [],
   "source": []
  },
  {
   "cell_type": "code",
   "execution_count": 7,
   "id": "26a01af7-d924-4a0a-bf1d-16eaf59fba27",
   "metadata": {},
   "outputs": [
    {
     "data": {
      "text/html": [
       "<div><i>Table length=7032</i>\n",
       "<table id=\"table140534807374688\" class=\"table-striped table-bordered table-condensed\">\n",
       "<thead><tr><th>tract</th><th>patch</th><th>minRA</th><th>maxRA</th><th>minDec</th><th>maxDec</th><th>num</th></tr></thead>\n",
       "<thead><tr><th>int64</th><th>str3</th><th>float64</th><th>float64</th><th>float64</th><th>float64</th><th>int64</th></tr></thead>\n",
       "<tr><td>2723</td><td>0,6</td><td>50.9184345</td><td>50.9379244</td><td>-44.6297682</td><td>-44.6284536</td><td>2</td></tr>\n",
       "<tr><td>2723</td><td>1,6</td><td>50.4329392</td><td>50.6769141</td><td>-44.6393502</td><td>-44.6281647</td><td>31</td></tr>\n",
       "<tr><td>2723</td><td>2,6</td><td>50.1200333</td><td>50.3095179</td><td>-44.634863</td><td>-44.628641</td><td>21</td></tr>\n",
       "<tr><td>2723</td><td>3,6</td><td>49.7877033</td><td>50.0171863</td><td>-44.642279</td><td>-44.6282091</td><td>23</td></tr>\n",
       "<tr><td>2723</td><td>4,6</td><td>49.751747</td><td>49.7857281</td><td>-44.6387177</td><td>-44.6285689</td><td>21</td></tr>\n",
       "<tr><td>2724</td><td>0,6</td><td>52.8085414</td><td>53.0630551</td><td>-44.6428536</td><td>-44.6282163</td><td>60</td></tr>\n",
       "<tr><td>2724</td><td>1,6</td><td>52.4940349</td><td>52.7556174</td><td>-44.6430477</td><td>-44.6281783</td><td>25</td></tr>\n",
       "<tr><td>2724</td><td>2,6</td><td>52.2607324</td><td>52.4910255</td><td>-44.6390512</td><td>-44.6281483</td><td>48</td></tr>\n",
       "<tr><td>2724</td><td>3,6</td><td>51.8692502</td><td>52.0679554</td><td>-44.6360238</td><td>-44.6281112</td><td>18</td></tr>\n",
       "<tr><td>2724</td><td>4,6</td><td>51.5551034</td><td>51.8658431</td><td>-44.640255</td><td>-44.6281197</td><td>48</td></tr>\n",
       "<tr><td>...</td><td>...</td><td>...</td><td>...</td><td>...</td><td>...</td><td>...</td></tr>\n",
       "<tr><td>5074</td><td>5,4</td><td>70.7106686</td><td>70.9616412</td><td>-27.4089116</td><td>-27.1860643</td><td>23907</td></tr>\n",
       "<tr><td>5074</td><td>5,5</td><td>70.7118853</td><td>70.9623062</td><td>-27.1866884</td><td>-26.9640133</td><td>17921</td></tr>\n",
       "<tr><td>5074</td><td>5,6</td><td>70.7156835</td><td>70.9592989</td><td>-26.9643334</td><td>-26.9424972</td><td>166</td></tr>\n",
       "<tr><td>5074</td><td>6,0</td><td>70.5069293</td><td>70.7067066</td><td>-28.264453</td><td>-28.0740509</td><td>17270</td></tr>\n",
       "<tr><td>5074</td><td>6,1</td><td>70.5069179</td><td>70.7080335</td><td>-28.0745942</td><td>-27.8517354</td><td>19664</td></tr>\n",
       "<tr><td>5074</td><td>6,2</td><td>70.506916</td><td>70.7091412</td><td>-27.8524216</td><td>-27.6294919</td><td>18920</td></tr>\n",
       "<tr><td>5074</td><td>6,3</td><td>70.5069134</td><td>70.7105554</td><td>-27.6302708</td><td>-27.407235</td><td>19325</td></tr>\n",
       "<tr><td>5074</td><td>6,4</td><td>70.5069307</td><td>70.7116987</td><td>-27.4079468</td><td>-27.1849808</td><td>19786</td></tr>\n",
       "<tr><td>5074</td><td>6,5</td><td>70.5069344</td><td>70.7129667</td><td>-27.1858234</td><td>-26.9628327</td><td>15480</td></tr>\n",
       "<tr><td>5074</td><td>6,6</td><td>70.5143924</td><td>70.7119353</td><td>-26.9633044</td><td>-26.9431991</td><td>160</td></tr>\n",
       "</table></div>"
      ],
      "text/plain": [
       "<Table length=7032>\n",
       "tract patch   minRA      maxRA       minDec      maxDec    num \n",
       "int64  str3  float64    float64     float64     float64   int64\n",
       "----- ----- ---------- ---------- ----------- ----------- -----\n",
       " 2723   0,6 50.9184345 50.9379244 -44.6297682 -44.6284536     2\n",
       " 2723   1,6 50.4329392 50.6769141 -44.6393502 -44.6281647    31\n",
       " 2723   2,6 50.1200333 50.3095179  -44.634863  -44.628641    21\n",
       " 2723   3,6 49.7877033 50.0171863  -44.642279 -44.6282091    23\n",
       " 2723   4,6  49.751747 49.7857281 -44.6387177 -44.6285689    21\n",
       " 2724   0,6 52.8085414 53.0630551 -44.6428536 -44.6282163    60\n",
       " 2724   1,6 52.4940349 52.7556174 -44.6430477 -44.6281783    25\n",
       " 2724   2,6 52.2607324 52.4910255 -44.6390512 -44.6281483    48\n",
       " 2724   3,6 51.8692502 52.0679554 -44.6360238 -44.6281112    18\n",
       " 2724   4,6 51.5551034 51.8658431  -44.640255 -44.6281197    48\n",
       "  ...   ...        ...        ...         ...         ...   ...\n",
       " 5074   5,4 70.7106686 70.9616412 -27.4089116 -27.1860643 23907\n",
       " 5074   5,5 70.7118853 70.9623062 -27.1866884 -26.9640133 17921\n",
       " 5074   5,6 70.7156835 70.9592989 -26.9643334 -26.9424972   166\n",
       " 5074   6,0 70.5069293 70.7067066  -28.264453 -28.0740509 17270\n",
       " 5074   6,1 70.5069179 70.7080335 -28.0745942 -27.8517354 19664\n",
       " 5074   6,2  70.506916 70.7091412 -27.8524216 -27.6294919 18920\n",
       " 5074   6,3 70.5069134 70.7105554 -27.6302708  -27.407235 19325\n",
       " 5074   6,4 70.5069307 70.7116987 -27.4079468 -27.1849808 19786\n",
       " 5074   6,5 70.5069344 70.7129667 -27.1858234 -26.9628327 15480\n",
       " 5074   6,6 70.5143924 70.7119353 -26.9633044 -26.9431991   160"
      ]
     },
     "execution_count": 7,
     "metadata": {},
     "output_type": "execute_result"
    }
   ],
   "source": [
    "results_tab"
   ]
  },
  {
   "cell_type": "code",
   "execution_count": 8,
   "id": "8c15f877-7da6-41ea-a6cc-aa4cc0e801e1",
   "metadata": {},
   "outputs": [],
   "source": [
    "ll=results_tab['minRA','minDec'].as_array()\n",
    "ul=results_tab['minRA','maxDec'].as_array()\n",
    "ur=results_tab['maxRA','maxDec'].as_array()\n",
    "lr=results_tab['maxRA','minDec'].as_array()\n",
    "counts=results_tab['num']"
   ]
  },
  {
   "cell_type": "code",
   "execution_count": 9,
   "id": "f693cb42-8a8e-49cf-8683-275e66878527",
   "metadata": {},
   "outputs": [
    {
     "data": {
      "text/plain": [
       "(-47.0, -25.0)"
      ]
     },
     "execution_count": 9,
     "metadata": {},
     "output_type": "execute_result"
    },
    {
     "data": {
      "image/png": "[encoded data removed]",
      "text/plain": [
       "<Figure size 1152x1152 with 1 Axes>"
      ]
     },
     "metadata": {},
     "output_type": "display_data"
    }
   ],
   "source": [
    "fig, ax = plt.subplots()\n",
    "patches = []\n",
    "num_polygons = len(results_tab)\n",
    "num_sides = 4\n",
    "for i in range(num_polygons):\n",
    "    corners = np.array([ ( ll[i][0], ll[i][1]), (ul[i][0], ul[i][1] ), (ur[i][0], ur[i][1]), (lr[i][0], lr[i][1])  ])\n",
    "    polygon = Polygon(corners,True)\n",
    "    patches.append(polygon)\n",
    "p = PatchCollection(patches, cmap=mpl.cm.jet, alpha=0.4)\n",
    "p.set_array(np.array(counts))\n",
    "ax.add_collection(p)  \n",
    "plt.xlim([47, 75])\n",
    "plt.ylim([-47, -25])"
   ]
  },
  {
   "cell_type": "code",
   "execution_count": 10,
   "id": "588dd73d-f0d5-46bf-8158-6a7a19c81fbd",
   "metadata": {},
   "outputs": [],
   "source": [
    "query_tracts = \"select distinct tract from dp01_dc2_catalogs.object order by tract ASC\""
   ]
  },
  {
   "cell_type": "code",
   "execution_count": null,
   "id": "575035d4-91a4-4108-b58b-6592780d8645",
   "metadata": {},
   "outputs": [],
   "source": [
    "results_tracts = service.search(query_tracts)\n",
    "results_tracts = results_tracts.to_table().to_pandas()"
   ]
  },
  {
   "cell_type": "code",
   "execution_count": null,
   "id": "3eeb546c-5b07-473b-8fae-fb417fbac422",
   "metadata": {},
   "outputs": [],
   "source": [
    "results_tracts"
   ]
  },
  {
   "cell_type": "markdown",
   "id": "12f978c0-59d5-4b35-af00-d0e7c53cf7e1",
   "metadata": {},
   "source": [
    "# With Butler"
   ]
  },
  {
   "cell_type": "code",
   "execution_count": null,
   "id": "c9a885cf-6d49-419f-882a-14d8648d20cc",
   "metadata": {},
   "outputs": [],
   "source": [
    "import lsst.daf.butler as dafButler"
   ]
  },
  {
   "cell_type": "code",
   "execution_count": null,
   "id": "7e69fc52-0241-4fa4-8192-1680c0122e1b",
   "metadata": {},
   "outputs": [],
   "source": [
    "config = 'dp02'\n",
    "collections = '2.2i/runs/DP0.2'\n",
    "butler = dafButler(config, collections=collections)\n",
    "registry=butler.registry\n",
    "\n",
    "#repo = 's3://butler-us-central1-dp01'\n",
    "#collection = '2.2i/runs/DP0.1'\n",
    "#butler = dafButler.Butler(repo,collections=collection)"
   ]
  },
  {
   "cell_type": "code",
   "execution_count": null,
   "id": "666dd7ae-3dda-4cb7-af41-24189072cf6b",
   "metadata": {},
   "outputs": [],
   "source": [
    "skymap = butler.get('skyMap')"
   ]
  },
  {
   "cell_type": "code",
   "execution_count": null,
   "id": "55edca86-1a5c-49b5-9881-6f17ffc46471",
   "metadata": {},
   "outputs": [],
   "source": [
    "tract_list = results_tracts[\"tract\"].values"
   ]
  },
  {
   "cell_type": "code",
   "execution_count": null,
   "id": "34957549-679a-4e14-bfdc-b92f359d8e2a",
   "metadata": {},
   "outputs": [],
   "source": [
    "\n",
    "numTracts=0\n",
    "patches = []\n",
    "for tractID in tract_list:\n",
    "    for tractInfo in skymap:\n",
    "        if tractInfo.getId() == tractID:\n",
    "           # print(tractID)\n",
    "            for patch in tractInfo:\n",
    "                numTracts+=1\n",
    "                #print(patch)\n",
    "                ibb=patch.getInnerBBox()\n",
    "                tWCS=tractInfo.getWcs()\n",
    "                corners = []\n",
    "                for corner in ibb.getCorners():\n",
    "                    p = geom.Point2D(corner.getX(), corner.getY())\n",
    "                    coord = tWCS.pixelToSky(p)\n",
    "                    corners.append([coord.getRa().asDegrees(), coord.getDec().asDegrees()])\n",
    "                #print(corners)\n",
    "                polygon = Polygon(corners,True)\n",
    "                patches.append(polygon)\n",
    "print(numTracts)\n",
    "fig, ax = plt.subplots()\n",
    "p = PatchCollection(patches, cmap=matplotlib.cm.jet, alpha=0.4)\n",
    "ax.add_collection(p)  \n",
    "plt.xlim([47, 77])\n",
    "plt.ylim([-47, -25])\n",
    "\n",
    "\n"
   ]
  },
  {
   "cell_type": "code",
   "execution_count": null,
   "id": "09a9e5e1-078e-4b61-b238-0d6d65a7fe9d",
   "metadata": {},
   "outputs": [],
   "source": []
  }
 ],
 "metadata": {
  "kernelspec": {
   "display_name": "LSST",
   "language": "python",
   "name": "lsst"
  },
  "language_info": {
   "codemirror_mode": {
    "name": "ipython",
    "version": 3
   },
   "file_extension": ".py",
   "mimetype": "text/x-python",
   "name": "python",
   "nbconvert_exporter": "python",
   "pygments_lexer": "ipython3",
   "version": "3.10.4"
  }
 },
 "nbformat": 4,
 "nbformat_minor": 5
}
