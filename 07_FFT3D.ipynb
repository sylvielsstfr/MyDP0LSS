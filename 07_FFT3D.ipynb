{
 "cells": [
  {
   "cell_type": "markdown",
   "metadata": {},
   "source": [
    "<img align=\"left\" src = figs/logos/logo-IJCLab_v1.png width=250, style=\"padding: 10px\"> \n",
    "<b>Find BAO in DC2 </b> <br>\n",
    "Last verified to run on 2022-01-30 with LSST Science Pipelines release w_2021_49 <br>\n",
    "Contact authors: Sylvie Dagoret-Campagne (DP0 Delegate) <br>\n",
    "Target audience: DP0 delegates member <br>"
   ]
  },
  {
   "cell_type": "markdown",
   "metadata": {},
   "source": [
    "**Credit:** Originally developed by Sylvie Dagoret-Campagne in the framework provided by Rubin DP0.1 (reference DP0.1 tutorials)\n",
    "\n",
    "Acknowledgement: Melissa Graham, Leanne Guy, Alex Drlica-Wagner, Keith Bechtol, Grzegorz Madejski, Louise Edwards, and many others .."
   ]
  },
  {
   "cell_type": "markdown",
   "metadata": {},
   "source": [
    "### Learning Objectives\n",
    "\n",
    "The goal is to detect BAO inside DC2\n",
    "\n",
    "- inspired from https://www.youtube.com/watch?v=HUUoX90MW7w&list=PLnq2BjRWgmjv1ZpMQO2iLdZR0sVWP7AqK"
   ]
  },
  {
   "cell_type": "markdown",
   "metadata": {},
   "source": [
    "### Imports"
   ]
  },
  {
   "cell_type": "code",
   "execution_count": null,
   "metadata": {},
   "outputs": [],
   "source": [
    "# Import general python packages\n",
    "import numpy as np\n",
    "import re\n",
    "import pandas as pd\n",
    "import pickle\n",
    "from pandas.testing import assert_frame_equal\n",
    "import os\n",
    "import errno\n",
    "import shutil\n",
    "import getpass\n",
    "\n",
    "# Import the Rubin TAP service utilities\n",
    "from lsst.rsp import get_tap_service, retrieve_query\n",
    "\n",
    "# LSST Science Pipelines (Stack) packages\n",
    "import lsst.daf.butler as dafButler\n",
    "import lsst.afw.display as afwDisplay\n",
    "import lsst.geom as geom\n",
    "import lsst.afw.coord as afwCoord\n",
    "afwDisplay.setDefaultBackend('matplotlib')\n",
    "\n",
    "#\n",
    "from lsst import skymap\n",
    "\n",
    "# Astropy\n",
    "from astropy import units as u\n",
    "from astropy.coordinates import SkyCoord\n",
    "from astropy.units.quantity import Quantity\n",
    "from astropy.visualization import (MinMaxInterval, SqrtStretch,ZScaleInterval,PercentileInterval,\n",
    "                                   ImageNormalize,imshow_norm)\n",
    "from astropy.visualization.stretch import SinhStretch, LinearStretch,AsinhStretch,LogStretch\n",
    "\n",
    "\n",
    "# Bokeh for interactive visualization\n",
    "import bokeh\n",
    "from bokeh.io import output_file, output_notebook, show\n",
    "from bokeh.layouts import gridplot\n",
    "from bokeh.models import ColumnDataSource, CDSView, GroupFilter, HoverTool\n",
    "from bokeh.plotting import figure\n",
    "from bokeh.transform import factor_cmap\n",
    "\n",
    "import holoviews as hv\n",
    "from holoviews import streams, opts\n",
    "from holoviews.operation.datashader import rasterize\n",
    "from holoviews.operation.datashader import datashade, dynspread\n",
    "from holoviews.plotting.util import process_cmap\n",
    "\n",
    "import datashader as dsh\n",
    "\n",
    "\n",
    "# Set the maximum number of rows to display from pandas\n",
    "pd.set_option('display.max_rows', 20)\n",
    "\n",
    "\n",
    "# Set the holoviews plotting library to be bokeh\n",
    "# You will see the holoviews + bokeh icons displayed when the library is loaded successfully\n",
    "#hv.extension('bokeh')\n",
    "hv.extension('bokeh', 'matplotlib')\n",
    "\n",
    "# Display bokeh plots inline in the notebook\n",
    "output_notebook()"
   ]
  },
  {
   "cell_type": "code",
   "execution_count": null,
   "metadata": {},
   "outputs": [],
   "source": [
    "# What versions of bokeh and holoviews nd datashader are we working with?\n",
    "# This is important when referring to online documentation as\n",
    "# APIs can change between versions.\n",
    "print(\"Bokeh version: \" + bokeh.__version__)\n",
    "print(\"Holoviews version: \" + hv.__version__)\n",
    "print(\"Datashader version: \" + dsh.__version__)"
   ]
  },
  {
   "cell_type": "code",
   "execution_count": null,
   "metadata": {},
   "outputs": [],
   "source": [
    "# allow for matplotlib to create inline plots in our notebook\n",
    "%matplotlib inline\n",
    "import matplotlib.pyplot as plt      # imports matplotlib.pyplot as plt\n",
    "from matplotlib.colors import Normalize\n",
    "\n",
    "import warnings                      # imports the warnings library\n",
    "import gc                            # imports python's garbage collector\n",
    "\n",
    "# Ignore warnings\n",
    "from astropy.units import UnitsWarning\n",
    "warnings.simplefilter(\"ignore\", category=UnitsWarning)"
   ]
  },
  {
   "cell_type": "code",
   "execution_count": null,
   "metadata": {},
   "outputs": [],
   "source": [
    "# Set up some plotting defaults:\n",
    "\n",
    "params = {'axes.labelsize': 28,\n",
    "          'font.size': 24,\n",
    "          'legend.fontsize': 14,\n",
    "          'xtick.major.width': 3,\n",
    "          'xtick.minor.width': 2,\n",
    "          'xtick.major.size': 12,\n",
    "          'xtick.minor.size': 6,\n",
    "          'xtick.direction': 'in',\n",
    "          'xtick.top': True,\n",
    "          'lines.linewidth': 3,\n",
    "          'axes.linewidth': 3,\n",
    "          'axes.labelweight': 3,\n",
    "          'axes.titleweight': 3,\n",
    "          'ytick.major.width': 3,\n",
    "          'ytick.minor.width': 2,\n",
    "          'ytick.major.size': 12,\n",
    "          'ytick.minor.size': 6,\n",
    "          'ytick.direction': 'in',\n",
    "          'ytick.right': True,\n",
    "          'figure.figsize': [18, 10],\n",
    "          'figure.facecolor': 'White'\n",
    "          }\n",
    "\n",
    "plt.rcParams.update(params)"
   ]
  },
  {
   "cell_type": "code",
   "execution_count": null,
   "metadata": {},
   "outputs": [],
   "source": [
    "from astropy.cosmology import FlatLambdaCDM, Planck18"
   ]
  },
  {
   "cell_type": "code",
   "execution_count": null,
   "metadata": {},
   "outputs": [],
   "source": [
    "from IPython.display import Image"
   ]
  },
  {
   "cell_type": "code",
   "execution_count": null,
   "metadata": {},
   "outputs": [],
   "source": [
    "def remove_figure(fig):\n",
    "    \"\"\"Remove a figure to reduce memory footprint. \"\"\"\n",
    "    # get the axes and clear their images\n",
    "    for ax in fig.get_axes():\n",
    "        for im in ax.get_images():\n",
    "            im.remove()\n",
    "    fig.clf()      # clear the figure\n",
    "    plt.close(fig) # close the figure\n",
    "    gc.collect()   # call the garbage collector"
   ]
  },
  {
   "cell_type": "code",
   "execution_count": null,
   "metadata": {},
   "outputs": [],
   "source": [
    "# What version of the Stack are we using?\n",
    "! echo $IMAGE_DESCRIPTION\n",
    "! eups list -s | grep lsst_distrib"
   ]
  },
  {
   "cell_type": "code",
   "execution_count": null,
   "metadata": {},
   "outputs": [],
   "source": [
    "import numpy as np\n",
    "import numexpr\n",
    "\n",
    "class ImageStructureFactor:\n",
    "    \"\"\"A class to compute rapially averaged structure factor of a 2D image\"\"\"\n",
    "    def __init__(self, shape):\n",
    "        assert len(shape) == 2, \"only 2D images implemented\"\n",
    "        L = max(shape)\n",
    "        self.qs = np.fft.fftfreq(L)[:int(L/2)]\n",
    "        self.dists = np.sqrt(np.fft.fftfreq(shape[0])[:,None]**2 + np.fft.fftfreq(shape[1])**2)\n",
    "        self.dcount = np.histogram(self.dists.ravel(), bins=self.qs)[0]\n",
    "        self.has_window = False\n",
    "\n",
    "    def set_window(self,w='hanning'):\n",
    "        if w == False:\n",
    "            self.has_window = False\n",
    "        elif hasattr(np, w):\n",
    "            self.window = [getattr(np,w)(self.dists.shape[0])[:,None], getattr(np,w)(self.dists.shape[1])]\n",
    "            self.has_window = True\n",
    "        elif isinstance(w, np.ndarray):\n",
    "            assert w.shape == self.dists.shape\n",
    "            self.window = w\n",
    "            self.has_window = True\n",
    "\n",
    "    def windowing(self, im):\n",
    "        if not self.has_window:\n",
    "            return im\n",
    "        if isinstance(self.window, np.ndarray):\n",
    "            return numexpr.evaluate('im*w', {'im':im, 'w':self.window})\n",
    "        return numexpr.evaluate('im*w0*w1', {'im':im, 'w0':self.window[0], 'w1':self.window[1]})\n",
    "\n",
    "    def __call__(self, im):\n",
    "        spectrum = numexpr.evaluate(\n",
    "            'real(abs(f))**2',\n",
    "            {'f':np.fft.fft2(self.windowing(im))}\n",
    "            )\n",
    "        return np.histogram(self.dists.ravel(), bins=self.qs, weights=spectrum.ravel())[0] / self.dcount\n"
   ]
  },
  {
   "cell_type": "markdown",
   "metadata": {},
   "source": [
    "### 1. Notebook Configuration"
   ]
  },
  {
   "cell_type": "markdown",
   "metadata": {},
   "source": [
    "#### 1.1 setup pathes"
   ]
  },
  {
   "cell_type": "code",
   "execution_count": null,
   "metadata": {},
   "outputs": [],
   "source": [
    "# username\n",
    "myusername=getpass.getuser()"
   ]
  },
  {
   "cell_type": "code",
   "execution_count": null,
   "metadata": {},
   "outputs": [],
   "source": [
    "# temporary folders if necessary\n",
    "NBDIR       = 'bao_lss02'                             # relative path for this notebook output\n",
    "TMPTOPDIR   = \"/scratch\"                               # always write some output in /scratch, never in user HOME \n",
    "TMPUSERDIR  = os.path.join(TMPTOPDIR,myusername)       # defines the path of user outputs in /scratch \n",
    "TMPNBDIR    = os.path.join(TMPUSERDIR,NBDIR)           # output path for this particular notebook"
   ]
  },
  {
   "cell_type": "code",
   "execution_count": null,
   "metadata": {},
   "outputs": [],
   "source": [
    "# create user temporary directory\n",
    "if not os.path.isdir(TMPUSERDIR):\n",
    "    try:\n",
    "        os.mkdir(TMPUSERDIR)\n",
    "    except:\n",
    "        raise OSError(f\"Can't create destination directory {TMPUSERDIR}!\" ) "
   ]
  },
  {
   "cell_type": "code",
   "execution_count": null,
   "metadata": {},
   "outputs": [],
   "source": [
    "# create this notebook temporary directory\n",
    "if not os.path.isdir(TMPNBDIR):\n",
    "    try:\n",
    "        os.mkdir(TMPNBDIR)\n",
    "    except:\n",
    "        raise OSError(f\"Can't create destination directory {TMPNBDIR}!\" ) "
   ]
  },
  {
   "cell_type": "markdown",
   "metadata": {},
   "source": [
    "#### 1.2 Defines steering flags and parameters\n",
    "\n",
    "The Output queries may be saved in files if requested. \n",
    "By defaults all the following flags are set False : no query output is saved in file.\n",
    "To speed-up the demo, the presenter may keep some of those flags True.\n"
   ]
  },
  {
   "cell_type": "code",
   "execution_count": null,
   "metadata": {},
   "outputs": [],
   "source": [
    "FLAG_WRITE_DATAFRAMEONDISK  = True                     # Select of query output will be saved on disk\n",
    "FLAG_READ_DATAFRAMEFROMDISK = True                     # Select of the query can be red from disk if it exists\n",
    "FLAG_CLEAN_DATAONDISK       = False                     # Select of the output queries saved in file will be cleaned at the end of the notebook"
   ]
  },
  {
   "cell_type": "markdown",
   "metadata": {},
   "source": [
    "### 2. Get a slice"
   ]
  },
  {
   "cell_type": "code",
   "execution_count": null,
   "metadata": {},
   "outputs": [],
   "source": [
    "# Define a function to build a query passing a coordinate and a search radius\n",
    "def getQueryCircle(c: SkyCoord, r: Quantity) -> str:\n",
    "    query = \"SELECT obj.ra, obj.dec, obj.objectId, obj.extendedness, \"\\\n",
    "            \"truth_type, truth.redshift, truth.match_objectId \" \\\n",
    "            \"FROM dp01_dc2_catalogs.object as obj \" \\\n",
    "            \"JOIN dp01_dc2_catalogs.truth_match as truth \" \\\n",
    "            \"ON truth.match_objectId = obj.objectId \" \\\n",
    "            \"WHERE CONTAINS(POINT('ICRS', obj.ra, obj.dec),\"\\\n",
    "            \"CIRCLE('ICRS', \" + str(c.ra.value) + \", \" + str(c.dec.value) + \", \" \\\n",
    "            + str(r.to(u.deg).value) + \" )) = 1 \" \\\n",
    "            \"AND obj.good = 1 \"  \\\n",
    "            \"AND truth.match_objectid >= 0 \" \\\n",
    "            \"AND truth.is_good_match = 1\"\n",
    "    return query"
   ]
  },
  {
   "cell_type": "code",
   "execution_count": null,
   "metadata": {},
   "outputs": [],
   "source": [
    "# Define a function to build a query passing a coordinate and a search radius\n",
    "def getQuerySquare(c: SkyCoord, r: Quantity) -> str:\n",
    "    \n",
    "    line_ra = \"\"\n",
    "    line_dec = \"\"\n",
    "    \n",
    "    if c.ra.value >=0:\n",
    "        line_ra =  \"WHERE ABS(\" +  \"obj.ra\" + \" - \" + str(c.ra.value)  + \") <\" + str(r.to(u.deg).value)\n",
    "    else:\n",
    "        line_ra =  \"WHERE ABS(\" +  \"obj.ra\" + \" + \" + str(-c.ra.value)  + \") <\" + str(r.to(u.deg).value)\n",
    "  \n",
    "\n",
    "    if c.dec.value >=0:\n",
    "        line_dec =  \"AND ABS(\"   + \"obj.dec\" + \" - \" + str(c.dec.value) + \") <\" + str(r.to(u.deg).value) \n",
    "    else:\n",
    "        line_dec =  \"AND ABS(\"   + \"obj.dec\" + \" + \" + str(-c.dec.value) + \") <\" + str(r.to(u.deg).value)  \n",
    "            \n",
    "        \n",
    "\n",
    "    query = \"SELECT obj.ra, obj.dec, obj.objectId, obj.extendedness, \"\\\n",
    "            \"truth_type, truth.redshift, truth.match_objectId \" \\\n",
    "            \"FROM dp01_dc2_catalogs.object as obj \" \\\n",
    "            \"JOIN dp01_dc2_catalogs.truth_match as truth \" \\\n",
    "            \"ON truth.match_objectId = obj.objectId \" \\\n",
    "            \"WHERE ABS(\" +  \"obj.ra\" + \" - \" + str(c.ra.value)  + \") <\" + str(r.to(u.deg).value) + \" \"\\\n",
    "            \"AND ABS(\"   + \"obj.dec\" + \" + \" + str(-c.dec.value) + \") <\" + str(r.to(u.deg).value) + \" \"\\\n",
    "            \"AND obj.good = 1 \"  \\\n",
    "            \"AND truth.match_objectid >= 0 \" \\\n",
    "            \"AND truth.is_good_match = 1\"\n",
    "    \n",
    "    \n",
    "    \n",
    "    \n",
    "    return query"
   ]
  },
  {
   "cell_type": "markdown",
   "metadata": {},
   "source": [
    "#### 2.1 Create the Rubin TAP Service client"
   ]
  },
  {
   "cell_type": "code",
   "execution_count": null,
   "metadata": {},
   "outputs": [],
   "source": [
    "# Get an instance of the TAP service\n",
    "service = get_tap_service()\n",
    "assert service is not None\n",
    "assert service.baseurl == \"https://data.lsst.cloud/api/tap\""
   ]
  },
  {
   "cell_type": "code",
   "execution_count": null,
   "metadata": {},
   "outputs": [],
   "source": [
    "# Define a reference position on the sky and a radius in degrees for a cone search\n",
    "c1 = SkyCoord(ra=55.65*u.degree, dec=-40.*u.degree, frame='icrs')\n",
    "radius = 4 * u.deg"
   ]
  },
  {
   "cell_type": "code",
   "execution_count": null,
   "metadata": {},
   "outputs": [],
   "source": [
    "query = getQuerySquare(c1, radius)"
   ]
  },
  {
   "cell_type": "code",
   "execution_count": null,
   "metadata": {},
   "outputs": [],
   "source": [
    "query"
   ]
  },
  {
   "cell_type": "markdown",
   "metadata": {},
   "source": [
    "#### 2.2 Get a full big slice in angle"
   ]
  },
  {
   "cell_type": "code",
   "execution_count": null,
   "metadata": {},
   "outputs": [],
   "source": [
    "filename_result=f'bao_result.pkl'\n",
    "fullfilename_result=os.path.join(TMPNBDIR,filename_result)"
   ]
  },
  {
   "cell_type": "code",
   "execution_count": null,
   "metadata": {},
   "outputs": [],
   "source": [
    "if FLAG_READ_DATAFRAMEFROMDISK and os.path.exists(fullfilename_result):\n",
    "    sql_result = pd.read_pickle(fullfilename_result)\n",
    "else:\n",
    "    job = service.submit_job(query)\n",
    "    job.run()\n",
    "    job.wait(phases=['COMPLETED', 'ERROR'])\n",
    "    print('Job phase is', job.phase)\n",
    "    #sql_result = job.fetch_result().to_table().to_pandas()\n",
    "    \n",
    "    \n",
    "    # Create and submit the job. This step does not run the query yet\n",
    "    job = service.submit_job(query)\n",
    "    # Get the job URL\n",
    "    print('Job URL is', job.url)\n",
    "\n",
    "    # Get the job phase. It will be pending as we have not yet started the job\n",
    "    print('Job phase is', job.phase)\n",
    "    \n",
    "    # Run the job. You will see that the the cell completes executing,\n",
    "    # even though the query is still running\n",
    "    job.run()\n",
    "    \n",
    "    # Use this to tell python to wait for the job to finish if\n",
    "    # you don't want to run anything else while waiting\n",
    "    # The cell will continue executing until the job is finished\n",
    "    job.wait(phases=['COMPLETED', 'ERROR'])\n",
    "    print('Job phase is', job.phase)\n",
    "    \n",
    "    # A usefull funtion to raise an exception if there was a problem with the query\n",
    "    job.raise_if_error()\n",
    "    \n",
    "    # Once the job completes successfully, you can fetch the results\n",
    "    async_data = job.fetch_result()\n",
    "    \n",
    "    sql_result = async_data.to_table().to_pandas()\n",
    "    \n",
    "    \n",
    "if FLAG_WRITE_DATAFRAMEONDISK:\n",
    "    sql_result.to_pickle(fullfilename_result)\n",
    "    "
   ]
  },
  {
   "cell_type": "code",
   "execution_count": null,
   "metadata": {},
   "outputs": [],
   "source": [
    "sql_result.head()"
   ]
  },
  {
   "cell_type": "code",
   "execution_count": null,
   "metadata": {},
   "outputs": [],
   "source": [
    "data = sql_result"
   ]
  },
  {
   "cell_type": "code",
   "execution_count": null,
   "metadata": {},
   "outputs": [],
   "source": [
    "! ls -l $TMPNBDIR"
   ]
  },
  {
   "cell_type": "code",
   "execution_count": null,
   "metadata": {},
   "outputs": [],
   "source": [
    "# map truth_type\n",
    "data['truth_type']=data['truth_type'].map({1: 'galaxy', 2: 'star', 3: 'SNe'})"
   ]
  },
  {
   "cell_type": "code",
   "execution_count": null,
   "metadata": {},
   "outputs": [],
   "source": [
    "data.head()"
   ]
  },
  {
   "cell_type": "markdown",
   "metadata": {},
   "source": [
    "#### drop objects that are not galaxies"
   ]
  },
  {
   "cell_type": "code",
   "execution_count": null,
   "metadata": {},
   "outputs": [],
   "source": [
    "data.drop(data.loc[data['truth_type'] != 'galaxy' ].index, inplace=True)"
   ]
  },
  {
   "cell_type": "code",
   "execution_count": null,
   "metadata": {},
   "outputs": [],
   "source": [
    "data.head()"
   ]
  },
  {
   "cell_type": "markdown",
   "metadata": {},
   "source": [
    "#### 4.1 2D view of the patch (RA,DEC)"
   ]
  },
  {
   "cell_type": "markdown",
   "metadata": {},
   "source": [
    "##### a) 2D histogram view with matplotlib"
   ]
  },
  {
   "cell_type": "code",
   "execution_count": null,
   "metadata": {},
   "outputs": [],
   "source": [
    "x=data[\"ra\"]\n",
    "y=data[\"dec\"]\n",
    "z=data[\"redshift\"]\n",
    "xmin=x.min()\n",
    "xmax=x.max()\n",
    "ymin=y.min()\n",
    "ymax=y.max()\n",
    "zmin=z.min()\n",
    "zmax=z.max()"
   ]
  },
  {
   "cell_type": "code",
   "execution_count": null,
   "metadata": {},
   "outputs": [],
   "source": [
    "H, xedges, yedges = np.histogram2d(x, y, bins=(1000, 1000))"
   ]
  },
  {
   "cell_type": "code",
   "execution_count": null,
   "metadata": {},
   "outputs": [],
   "source": [
    "transform = AsinhStretch() + PercentileInterval(99.)\n",
    "#transform =  PercentileInterval(98.)"
   ]
  },
  {
   "cell_type": "code",
   "execution_count": null,
   "metadata": {},
   "outputs": [],
   "source": [
    "img_opts = dict(height=400, width=450, \n",
    "                xaxis=\"bottom\", \n",
    "                padding = 0.01, fontsize={'title': '12pt'},\n",
    "                colorbar=True, toolbar='right', show_grid=True,\n",
    "                title= f\"(HV Image, histo2D)\",\n",
    "                xlabel=\"RA\",\n",
    "                ylabel=\"DEC\",\n",
    "                tools=['hover']\n",
    "               )    "
   ]
  },
  {
   "cell_type": "code",
   "execution_count": null,
   "metadata": {},
   "outputs": [],
   "source": [
    "# With hv.Image, must flip up-down the image initialy\n",
    "flipHT=np.flipud(H.T)\n",
    "img=hv.Image(flipHT, bounds=(xmin,ymin,xmax,ymax) ).opts(cmap=\"jet\").opts(**img_opts)"
   ]
  },
  {
   "cell_type": "code",
   "execution_count": null,
   "metadata": {},
   "outputs": [],
   "source": [
    "rasterize(img)"
   ]
  },
  {
   "cell_type": "markdown",
   "metadata": {},
   "source": [
    "# Cosmology"
   ]
  },
  {
   "cell_type": "code",
   "execution_count": null,
   "metadata": {},
   "outputs": [],
   "source": [
    "#cosmo = FlatLambdaCDM(H0=70, Om0=0.3, Ob0=None)\n",
    "cosmo = Planck18"
   ]
  },
  {
   "cell_type": "code",
   "execution_count": null,
   "metadata": {},
   "outputs": [],
   "source": [
    "redshift_grid = np.linspace(0,3,100)"
   ]
  },
  {
   "cell_type": "code",
   "execution_count": null,
   "metadata": {},
   "outputs": [],
   "source": [
    "lumin_dist = [cosmo.luminosity_distance(z).value for z in redshift_grid ]\n",
    "comov_dist = [cosmo.comoving_distance(z).value for z in redshift_grid ]\n",
    "angular_dist = [cosmo.angular_diameter_distance(z).value for z in redshift_grid ]"
   ]
  },
  {
   "cell_type": "code",
   "execution_count": null,
   "metadata": {},
   "outputs": [],
   "source": [
    "hvcurv_comov=hv.Curve(zip(redshift_grid,comov_dist),label=\"comoving distance\").opts(color='red', width=400,xlabel=\"redshift\",ylabel=\"distance (MPC)\")\n",
    "hvcurv_lum=hv.Curve(zip(redshift_grid,lumin_dist),label=\"luminosity distance\").opts(color='green', width=400,xlabel=\"redshift\",ylabel=\"distance (MPC)\")\n",
    "hvcurv_ang=hv.Curve(zip(redshift_grid,angular_dist),label=\"angular distance\").opts(color='blue', width=400,xlabel=\"redshift\",ylabel=\"distance (MPC)\")"
   ]
  },
  {
   "cell_type": "code",
   "execution_count": null,
   "metadata": {},
   "outputs": [],
   "source": [
    "hvcurv_comov  * hvcurv_ang"
   ]
  },
  {
   "cell_type": "markdown",
   "metadata": {},
   "source": [
    "# Select Redshift"
   ]
  },
  {
   "cell_type": "markdown",
   "metadata": {},
   "source": [
    "https://github.com/LSSTDESC/DESchool/blob/master/Feb2015/DE_School_Kirkby.pdf"
   ]
  },
  {
   "cell_type": "code",
   "execution_count": null,
   "metadata": {},
   "outputs": [],
   "source": [
    "#ZMIN = 1.17\n",
    "#ZMAX = 1.23\n",
    "\n",
    "#ZMIN = 1.19\n",
    "#ZMAX = 1.21\n",
    "\n",
    "ZMIN = 1.13\n",
    "ZMAX = 1.27\n",
    "\n",
    "\n",
    "ZMEAN=(ZMIN+ZMAX)/2."
   ]
  },
  {
   "cell_type": "code",
   "execution_count": null,
   "metadata": {},
   "outputs": [],
   "source": [
    "ZMEAN"
   ]
  },
  {
   "cell_type": "code",
   "execution_count": null,
   "metadata": {},
   "outputs": [],
   "source": [
    "data.head()"
   ]
  },
  {
   "cell_type": "code",
   "execution_count": null,
   "metadata": {},
   "outputs": [],
   "source": [
    "cut = (data.redshift > ZMIN) & (data.redshift < ZMAX)"
   ]
  },
  {
   "cell_type": "code",
   "execution_count": null,
   "metadata": {},
   "outputs": [],
   "source": [
    "slice_data = data[cut]"
   ]
  },
  {
   "cell_type": "markdown",
   "metadata": {},
   "source": [
    "## Cosmological distances"
   ]
  },
  {
   "cell_type": "code",
   "execution_count": null,
   "metadata": {},
   "outputs": [],
   "source": [
    "slice_data_cosmo = slice_data"
   ]
  },
  {
   "cell_type": "code",
   "execution_count": null,
   "metadata": {},
   "outputs": [],
   "source": [
    "slice_data_cosmo[\"dl\"]=cosmo.luminosity_distance(slice_data_cosmo[\"redshift\"])"
   ]
  },
  {
   "cell_type": "code",
   "execution_count": null,
   "metadata": {},
   "outputs": [],
   "source": [
    "slice_data_cosmo[\"da\"]=cosmo.angular_diameter_distance(slice_data_cosmo[\"redshift\"])"
   ]
  },
  {
   "cell_type": "code",
   "execution_count": null,
   "metadata": {},
   "outputs": [],
   "source": [
    "slice_data_cosmo[\"dc\"]=cosmo.comoving_distance(slice_data_cosmo[\"redshift\"])"
   ]
  },
  {
   "cell_type": "code",
   "execution_count": null,
   "metadata": {},
   "outputs": [],
   "source": [
    "slice_data_cosmo[\"dra\"] = slice_data_cosmo[\"ra\"] - slice_data_cosmo[\"ra\"].mean()\n",
    "slice_data_cosmo[\"ddec\"] = slice_data_cosmo[\"dec\"] - slice_data_cosmo[\"dec\"].mean()"
   ]
  },
  {
   "cell_type": "code",
   "execution_count": null,
   "metadata": {},
   "outputs": [],
   "source": [
    "slice_data_cosmo[\"dist_ra\"] =slice_data_cosmo[\"da\"]*np.tan(slice_data_cosmo[\"dra\"]*np.pi/180)"
   ]
  },
  {
   "cell_type": "code",
   "execution_count": null,
   "metadata": {},
   "outputs": [],
   "source": [
    "slice_data_cosmo[\"dist_dec\"] = slice_data_cosmo[\"da\"]*np.tan(slice_data_cosmo[\"ddec\"]*np.pi/180)"
   ]
  },
  {
   "cell_type": "code",
   "execution_count": null,
   "metadata": {},
   "outputs": [],
   "source": [
    "img_opts = dict(height=400, width=450, \n",
    "                xaxis=\"bottom\", \n",
    "                padding = 0.01, fontsize={'title': '12pt'},\n",
    "                colorbar=True, toolbar='right', show_grid=True,\n",
    "                tools=['hover']\n",
    "           )    "
   ]
  },
  {
   "cell_type": "code",
   "execution_count": null,
   "metadata": {},
   "outputs": [],
   "source": [
    "X=slice_data_cosmo[\"dist_ra\"]\n",
    "Y=slice_data_cosmo[\"dist_dec\"]\n",
    "Z=slice_data_cosmo[\"dc\"]-cosmo.comoving_distance(ZMEAN).value"
   ]
  },
  {
   "cell_type": "code",
   "execution_count": null,
   "metadata": {},
   "outputs": [],
   "source": [
    "print(X.min(),X.max())"
   ]
  },
  {
   "cell_type": "code",
   "execution_count": null,
   "metadata": {},
   "outputs": [],
   "source": [
    "print(Y.min(),Y.max())"
   ]
  },
  {
   "cell_type": "code",
   "execution_count": null,
   "metadata": {},
   "outputs": [],
   "source": [
    "print(Z.min(),Z.max())"
   ]
  },
  {
   "cell_type": "code",
   "execution_count": null,
   "metadata": {},
   "outputs": [],
   "source": [
    "X.shape"
   ]
  },
  {
   "cell_type": "code",
   "execution_count": null,
   "metadata": {},
   "outputs": [],
   "source": [
    "Y.shape"
   ]
  },
  {
   "cell_type": "code",
   "execution_count": null,
   "metadata": {},
   "outputs": [],
   "source": [
    "Z.shape"
   ]
  },
  {
   "cell_type": "code",
   "execution_count": null,
   "metadata": {},
   "outputs": [],
   "source": [
    "NBINX=501\n",
    "NBINY=501\n",
    "NBINZ=501"
   ]
  },
  {
   "cell_type": "code",
   "execution_count": null,
   "metadata": {},
   "outputs": [],
   "source": [
    "(nx_bin, xcount) = np.histogram(X, bins=100)\n",
    "nx_distribution = hv.Histogram(nx_bin, xcount).opts(\n",
    "    title=f\"angular distance \",facecolor='cyan', \n",
    "    xlabel='X distance (MPC)', fontscale=1.2,\n",
    "    height=300, width=300,tools=['hover'])"
   ]
  },
  {
   "cell_type": "code",
   "execution_count": null,
   "metadata": {},
   "outputs": [],
   "source": [
    "(ny_bin, ycount) = np.histogram(Y, bins=100)\n",
    "ny_distribution = hv.Histogram(ny_bin, ycount).opts(\n",
    "    title=f\"angular distance \",facecolor='cyan', \n",
    "    xlabel='Y distance (MPC)', fontscale=1.2,\n",
    "    height=300, width=300,tools=['hover'])"
   ]
  },
  {
   "cell_type": "code",
   "execution_count": null,
   "metadata": {},
   "outputs": [],
   "source": [
    "(nz_bin, zcount) = np.histogram(Z, bins=100)\n",
    "nz_distribution = hv.Histogram(nz_bin, zcount).opts(\n",
    "    title=f\"comoving distance \",facecolor='cyan', \n",
    "    xlabel='distance (MPC)', fontscale=1.2,\n",
    "    height=300, width=300,tools=['hover'])"
   ]
  },
  {
   "cell_type": "code",
   "execution_count": null,
   "metadata": {},
   "outputs": [],
   "source": [
    "nx_distribution  + ny_distribution + nz_distribution "
   ]
  },
  {
   "cell_type": "code",
   "execution_count": null,
   "metadata": {},
   "outputs": [],
   "source": [
    "sample = np.stack((X,Y,Z),axis=1)"
   ]
  },
  {
   "cell_type": "code",
   "execution_count": null,
   "metadata": {},
   "outputs": [],
   "source": [
    "sample.shape"
   ]
  },
  {
   "cell_type": "code",
   "execution_count": null,
   "metadata": {},
   "outputs": [],
   "source": [
    "Lhalf=120\n",
    "L=2*Lhalf\n",
    "L # MPC"
   ]
  },
  {
   "cell_type": "code",
   "execution_count": null,
   "metadata": {},
   "outputs": [],
   "source": [
    "delta_k = 2*np.pi/L\n",
    "delta_k"
   ]
  },
  {
   "cell_type": "code",
   "execution_count": null,
   "metadata": {},
   "outputs": [],
   "source": [
    "del data\n",
    "gc.collect()"
   ]
  },
  {
   "cell_type": "code",
   "execution_count": null,
   "metadata": {},
   "outputs": [],
   "source": [
    "hist3d=np.histogramdd(sample, bins=250, range=[[-Lhalf,Lhalf], [-Lhalf,Lhalf], [-Lhalf,Lhalf]])"
   ]
  },
  {
   "cell_type": "code",
   "execution_count": null,
   "metadata": {},
   "outputs": [],
   "source": [
    "H, edges  = hist3d"
   ]
  },
  {
   "cell_type": "code",
   "execution_count": null,
   "metadata": {},
   "outputs": [],
   "source": [
    "H.shape"
   ]
  },
  {
   "cell_type": "code",
   "execution_count": null,
   "metadata": {},
   "outputs": [],
   "source": [
    "Hmean = H.mean()\n",
    "Hmean"
   ]
  },
  {
   "cell_type": "code",
   "execution_count": null,
   "metadata": {},
   "outputs": [],
   "source": [
    "H = (H - Hmean)/Hmean"
   ]
  },
  {
   "cell_type": "code",
   "execution_count": null,
   "metadata": {},
   "outputs": [],
   "source": [
    "H.max()"
   ]
  },
  {
   "cell_type": "code",
   "execution_count": null,
   "metadata": {},
   "outputs": [],
   "source": [
    "H.shape"
   ]
  },
  {
   "cell_type": "code",
   "execution_count": null,
   "metadata": {},
   "outputs": [],
   "source": []
  },
  {
   "cell_type": "code",
   "execution_count": null,
   "metadata": {},
   "outputs": [],
   "source": [
    "bin_ed,counts = np.histogram(H.flatten(),bins=50,range=(-2,20))"
   ]
  },
  {
   "cell_type": "code",
   "execution_count": null,
   "metadata": {},
   "outputs": [],
   "source": [
    "delta_distribution = hv.Histogram(bin_ed, counts).opts(\n",
    "    title=f\"cell counts \",facecolor='blue', \n",
    "    xlabel='', fontscale=1.2,\n",
    "    height=300, width=300,tools=['hover'])"
   ]
  },
  {
   "cell_type": "code",
   "execution_count": null,
   "metadata": {},
   "outputs": [],
   "source": [
    "delta_distribution"
   ]
  },
  {
   "cell_type": "markdown",
   "metadata": {},
   "source": [
    "## FFT 3d"
   ]
  },
  {
   "cell_type": "code",
   "execution_count": null,
   "metadata": {},
   "outputs": [],
   "source": [
    "H.shape"
   ]
  },
  {
   "cell_type": "code",
   "execution_count": null,
   "metadata": {},
   "outputs": [],
   "source": [
    "npix=H.shape[0]"
   ]
  },
  {
   "cell_type": "code",
   "execution_count": null,
   "metadata": {},
   "outputs": [],
   "source": [
    "fourier_image = np.fft.fftn(H)"
   ]
  },
  {
   "cell_type": "code",
   "execution_count": null,
   "metadata": {},
   "outputs": [],
   "source": [
    "fourier_amplitudes = np.abs(fourier_image)**2"
   ]
  },
  {
   "cell_type": "code",
   "execution_count": null,
   "metadata": {},
   "outputs": [],
   "source": [
    "kfreq = np.fft.fftfreq(npix) * npix"
   ]
  },
  {
   "cell_type": "code",
   "execution_count": null,
   "metadata": {},
   "outputs": [],
   "source": [
    "kfreq3D = np.meshgrid(kfreq, kfreq,kfreq)"
   ]
  },
  {
   "cell_type": "code",
   "execution_count": null,
   "metadata": {},
   "outputs": [],
   "source": [
    "len(kfreq3D)"
   ]
  },
  {
   "cell_type": "code",
   "execution_count": null,
   "metadata": {},
   "outputs": [],
   "source": [
    "knrm = np.sqrt(kfreq3D[0]**2 + kfreq3D[1]**2 + kfreq3D[2]**2)"
   ]
  },
  {
   "cell_type": "code",
   "execution_count": null,
   "metadata": {},
   "outputs": [],
   "source": [
    "knrm = knrm.flatten()\n",
    "fourier_amplitudes = fourier_amplitudes.flatten()"
   ]
  },
  {
   "cell_type": "code",
   "execution_count": null,
   "metadata": {},
   "outputs": [],
   "source": [
    "kbins = np.arange(0.5, npix//2+1, 1.)"
   ]
  },
  {
   "cell_type": "code",
   "execution_count": null,
   "metadata": {},
   "outputs": [],
   "source": [
    "kvals = 0.5 * (kbins[1:] + kbins[:-1])"
   ]
  },
  {
   "cell_type": "code",
   "execution_count": null,
   "metadata": {},
   "outputs": [],
   "source": [
    "import scipy.stats as stats\n",
    "\n",
    "Abins, _, _ = stats.binned_statistic(knrm, fourier_amplitudes,\n",
    "                                     statistic = \"mean\",\n",
    "                                     bins = kbins)"
   ]
  },
  {
   "cell_type": "code",
   "execution_count": null,
   "metadata": {},
   "outputs": [],
   "source": [
    "#Abins *= 4./3.*np.pi * (kbins[1:]**3 - kbins[:-1]**3)"
   ]
  },
  {
   "cell_type": "code",
   "execution_count": null,
   "metadata": {},
   "outputs": [],
   "source": [
    "kvals = kvals*delta_k"
   ]
  },
  {
   "cell_type": "code",
   "execution_count": null,
   "metadata": {},
   "outputs": [],
   "source": [
    "hv.Curve(zip(kvals,Abins),\"k (MPC^-1)\",\"P(k)\").opts(logx=True,logy=True,width=400)"
   ]
  },
  {
   "cell_type": "markdown",
   "metadata": {},
   "source": [
    "### 6. Clean the output directory "
   ]
  },
  {
   "cell_type": "code",
   "execution_count": null,
   "metadata": {},
   "outputs": [],
   "source": [
    "if FLAG_CLEAN_DATAONDISK:\n",
    "    if os.path.isdir(TMPNBDIR):\n",
    "        try:\n",
    "            shutil.rmtree(TMPNBDIR)\n",
    "        except OSError as e:\n",
    "            print(\"Error: %s : %s\" % (TMPNBDIR, e.strerror)) "
   ]
  }
 ],
 "metadata": {
  "kernelspec": {
   "display_name": "LSST",
   "language": "python",
   "name": "lsst"
  },
  "language_info": {
   "codemirror_mode": {
    "name": "ipython",
    "version": 3
   },
   "file_extension": ".py",
   "mimetype": "text/x-python",
   "name": "python",
   "nbconvert_exporter": "python",
   "pygments_lexer": "ipython3",
   "version": "3.8.8"
  }
 },
 "nbformat": 4,
 "nbformat_minor": 4
}
